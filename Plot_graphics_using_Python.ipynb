{
  "nbformat": 4,
  "nbformat_minor": 0,
  "metadata": {
    "colab": {
      "provenance": [],
      "mount_file_id": "1-EWHD6T9IHLHJWuXl0ysbrKDgE-jcsQQ",
      "authorship_tag": "ABX9TyPhem+YLVIWyhwHn7xiXag4",
      "include_colab_link": true
    },
    "kernelspec": {
      "name": "python3",
      "display_name": "Python 3"
    },
    "language_info": {
      "name": "python"
    }
  },
  "cells": [
    {
      "cell_type": "markdown",
      "metadata": {
        "id": "view-in-github",
        "colab_type": "text"
      },
      "source": [
        "<a href=\"https://colab.research.google.com/github/lucaspn017/using_statistical_descriptions/blob/main/Plot_graphics_using_Python.ipynb\" target=\"_parent\"><img src=\"https://colab.research.google.com/assets/colab-badge.svg\" alt=\"Open In Colab\"/></a>"
      ]
    },
    {
      "cell_type": "code",
      "execution_count": null,
      "metadata": {
        "id": "MZzCOeoknIMH"
      },
      "outputs": [],
      "source": [
        "import pandas as pd\n",
        "import matplotlib.pyplot as plt"
      ]
    },
    {
      "cell_type": "markdown",
      "source": [
        "# A tabela em estudo mostra o número de imigrações dos habitantes de vários países, em direção ao Canadá, assim como os seus respectivos continentes."
      ],
      "metadata": {
        "id": "kVRsUSv9q0QU"
      }
    },
    {
      "cell_type": "code",
      "source": [
        "imigrantes = pd.read_csv(\"/content/drive/MyDrive/Curso 2 - Criando gráficos com Python/imigrantes_canada.csv\")"
      ],
      "metadata": {
        "id": "1q0_umpppLm-"
      },
      "execution_count": 122,
      "outputs": []
    },
    {
      "cell_type": "code",
      "source": [
        "imigrantes.set_index(\"País\", inplace=True)\n",
        "#Tornando a coluna \"País\" o índice e aplicando alteração na própria tabela."
      ],
      "metadata": {
        "id": "b7ysaTAGp5Ae"
      },
      "execution_count": 123,
      "outputs": []
    },
    {
      "cell_type": "code",
      "source": [
        "imigrantes.info()\n",
        "#Não será necessário tratar valores nulos.\n",
        "imigrantes"
      ],
      "metadata": {
        "id": "1D-Du9DjsMxk"
      },
      "execution_count": null,
      "outputs": []
    },
    {
      "cell_type": "code",
      "source": [
        "#Criando uma variável para melhor tratamento dos dados.\n",
        "anos = list(map(str, range(1980,2014)))#Não consideramos o último"
      ],
      "metadata": {
        "id": "gQ1PSAUUr8x6"
      },
      "execution_count": 77,
      "outputs": []
    },
    {
      "cell_type": "markdown",
      "source": [
        "#Objetivo: Verificar as tendências de imigração do Brasil para o Canadá"
      ],
      "metadata": {
        "id": "jxyuSqkzOp14"
      }
    },
    {
      "cell_type": "code",
      "source": [
        "#A função .loc necessita de dois parâmetros,\n",
        "#sendo um deles, uma sequência de rótulos.\n",
        "brasil = imigrantes.loc[\"Brasil\", anos]\n",
        "brasil"
      ],
      "metadata": {
        "id": "nk4IPfVsteEK"
      },
      "execution_count": null,
      "outputs": []
    },
    {
      "cell_type": "code",
      "source": [
        "brasil_dict = {'ano': brasil.index.tolist(), 'imigrantes':brasil.values.tolist()}\n",
        "dados_brasil = pd.DataFrame(brasil_dict)\n",
        "dados_brasil"
      ],
      "metadata": {
        "id": "4Cvf8SqCveog"
      },
      "execution_count": null,
      "outputs": []
    },
    {
      "cell_type": "code",
      "source": [
        "plt.figure(figsize=(8,4))\n",
        "plt.plot(dados_brasil[\"ano\"], dados_brasil[\"imigrantes\"])\n",
        "plt.title('Imigração do Brasil para o Canadá')\n",
        "plt.xlabel('Ano')\n",
        "plt.ylabel('Número de imigrantes')\n",
        "plt.xticks(['1980', '1985', '1990', '1995', '2000', '2005', '2010'])\n",
        "plt.show()"
      ],
      "metadata": {
        "id": "WURM8CT_-ecK"
      },
      "execution_count": null,
      "outputs": []
    },
    {
      "cell_type": "markdown",
      "source": [
        "#Comparando o número de imigrantes do Brasil e da Argentina, para o Canadá.\n",
        "    "
      ],
      "metadata": {
        "id": "D-keZ4hlDZvt"
      }
    },
    {
      "cell_type": "code",
      "source": [
        "comparacao = imigrantes.loc[['Brasil','Argentina'],anos]\n",
        "comparacao =comparacao.T"
      ],
      "metadata": {
        "id": "7p77LgbHDoE3"
      },
      "execution_count": 110,
      "outputs": []
    },
    {
      "cell_type": "code",
      "source": [
        "plt.plot(comparacao['Brasil'], label='Brasil')\n",
        "plt.plot(comparacao['Argentina'], label='Argentina')\n",
        "plt.title('Imigrações do Brasil e da Argentina para o Canadá')\n",
        "plt.xlabel('Ano')\n",
        "plt.ylabel('Número de imigrações')\n",
        "plt.xticks(['1980','1985','1990', '1995','2000','2005','2010'])\n",
        "## Se colocar dois plts consecutivos, eles irão se sobrepor.\n",
        "plt.show()"
      ],
      "metadata": {
        "id": "p52aGtzvIgoS"
      },
      "execution_count": null,
      "outputs": []
    }
  ]
}